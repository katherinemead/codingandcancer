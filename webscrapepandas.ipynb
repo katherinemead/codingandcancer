{
 "cells": [
  {
   "cell_type": "code",
   "execution_count": 11,
   "id": "176d9866-2cd6-46f7-84b9-03b4cdeb3f7c",
   "metadata": {},
   "outputs": [],
   "source": [
    "import lxml \n",
    "from bs4 import BeautifulSoup\n",
    "import pandas as pd\n",
    "\n",
    "#from https://pythonbasics.org/pandas-web-scraping/ tutorial "
   ]
  },
  {
   "cell_type": "code",
   "execution_count": 12,
   "id": "d43968f2-5cd7-48bb-9563-e7b246f83bbf",
   "metadata": {},
   "outputs": [
    {
     "name": "stdout",
     "output_type": "stream",
     "text": [
      "1\n"
     ]
    }
   ],
   "source": [
    "\n",
    "url='https://en.wikipedia.org/wiki/Checkpoint_inhibitor'\n",
    "\n",
    "dfs = pd.read_html(url) #extracting tables\n",
    "\n",
    "print(len(dfs)) #how many tables on the page"
   ]
  },
  {
   "cell_type": "code",
   "execution_count": 26,
   "id": "ae60bb4e-d4e9-4705-8b36-3db2b5768687",
   "metadata": {},
   "outputs": [
    {
     "name": "stdout",
     "output_type": "stream",
     "text": [
      "            Name Brand Name  \\\n",
      "0     Ipilimumab     Yervoy   \n",
      "1      Nivolumab     Opdivo   \n",
      "2  Pembrolizumab   Keytruda   \n",
      "3   Atezolizumab  Tecentriq   \n",
      "4       Avelumab   Bavencio   \n",
      "5     Durvalumab    Imfinzi   \n",
      "6     Cemiplimab    Libtayo   \n",
      "\n",
      "                                    Marketing rights  Target  Approved  \\\n",
      "0                               Bristol-Myers Squibb  CTLA-4      2011   \n",
      "1  Bristol-Myers Squibb (North America) + Ono Pha...    PD-1      2014   \n",
      "2                                Merck Sharp & Dohme    PD-1      2014   \n",
      "3                                    Genentech/Roche   PD-L1      2016   \n",
      "4                              Merck KGaA and Pfizer   PD-L1      2017   \n",
      "5                              Medimmune/AstraZeneca   PD-L1      2017   \n",
      "6                                          Regeneron    PD-1      2018   \n",
      "\n",
      "                        Indications (April 2021) [8]  \n",
      "0  metastatic melanoma, renal cell carcinoma, col...  \n",
      "1  metastatic melanoma, non-small cell lung cance...  \n",
      "2  metastatic melanoma, non-small cell lung cance...  \n",
      "3  bladder cancer, non-small cell lung cancer, br...  \n",
      "4  Merkel cell carcinoma, urothelial carcinoma, r...  \n",
      "5  non-small cell lung cancer, small cell lung ca...  \n",
      "6  squamous cell carcinoma, basal cell carcinoma,...  \n"
     ]
    }
   ],
   "source": [
    "print(dfs[0])"
   ]
  },
  {
   "cell_type": "code",
   "execution_count": 17,
   "id": "ec8d1689-fef5-4765-af42-f76917862d51",
   "metadata": {},
   "outputs": [
    {
     "name": "stdout",
     "output_type": "stream",
     "text": [
      "0       Ipilimumab\n",
      "1        Nivolumab\n",
      "2    Pembrolizumab\n",
      "3     Atezolizumab\n",
      "4         Avelumab\n",
      "5       Durvalumab\n",
      "6       Cemiplimab\n",
      "Name: Name, dtype: object\n"
     ]
    }
   ],
   "source": [
    "print(dfs[0]['Name'])\n",
    "#print(dfs[0]['Approved']) #printing each column "
   ]
  },
  {
   "cell_type": "code",
   "execution_count": 22,
   "id": "c9e5cd8d-9cfc-4672-ab96-c258fcafd643",
   "metadata": {},
   "outputs": [
    {
     "name": "stdout",
     "output_type": "stream",
     "text": [
      "            Name  Approved Brand Name\n",
      "0     Ipilimumab      2011     Yervoy\n",
      "1      Nivolumab      2014     Opdivo\n",
      "2  Pembrolizumab      2014   Keytruda\n",
      "3   Atezolizumab      2016  Tecentriq\n",
      "4       Avelumab      2017   Bavencio\n",
      "5     Durvalumab      2017    Imfinzi\n",
      "6     Cemiplimab      2018    Libtayo\n"
     ]
    }
   ],
   "source": [
    "# Get first table                                                                                                           \n",
    "df = dfs[0]\n",
    "\n",
    "# Extract columns                                                                                                           \n",
    "df2 = df[['Name','Approved', 'Brand Name']]\n",
    "print(df2)"
   ]
  },
  {
   "cell_type": "code",
   "execution_count": 20,
   "id": "416d7cbe-4086-48e2-a08f-6bd12d9d604b",
   "metadata": {},
   "outputs": [],
   "source": [
    "# Write to csv (this does work, it showed up in the side bar of the labs) \n",
    "\n",
    "df2.to_csv('checkpoint.csv')\n"
   ]
  },
  {
   "cell_type": "code",
   "execution_count": null,
   "id": "3d41c5c5-e62b-4ba5-a6a7-b1ccef534166",
   "metadata": {},
   "outputs": [],
   "source": []
  }
 ],
 "metadata": {
  "kernelspec": {
   "display_name": "Python",
   "language": "python",
   "name": "conda-env-python-py"
  },
  "language_info": {
   "codemirror_mode": {
    "name": "ipython",
    "version": 3
   },
   "file_extension": ".py",
   "mimetype": "text/x-python",
   "name": "python",
   "nbconvert_exporter": "python",
   "pygments_lexer": "ipython3",
   "version": "3.7.12"
  }
 },
 "nbformat": 4,
 "nbformat_minor": 5
}

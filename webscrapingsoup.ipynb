{
 "cells": [
  {
   "cell_type": "code",
   "execution_count": 1,
   "id": "39ce7166-f23c-4bd9-806e-a85e3b2f0073",
   "metadata": {},
   "outputs": [],
   "source": [
    "from bs4 import BeautifulSoup # this module helps in web scrapping.\n",
    "import requests \n",
    "import pandas as pd\n",
    "import csv\n",
    "\n",
    "#from https://medium.com/analytics-vidhya/web-scraping-a-wikipedia-table-into-a-dataframe-c52617e1f451"
   ]
  },
  {
   "cell_type": "code",
   "execution_count": 2,
   "id": "2f8153df-dfa9-43d6-a440-32bab9ccd621",
   "metadata": {},
   "outputs": [
    {
     "name": "stdout",
     "output_type": "stream",
     "text": [
      "200\n"
     ]
    }
   ],
   "source": [
    "url = \"https://en.wikipedia.org/wiki/Checkpoint_inhibitor\"\n",
    "# get the response in the form of html\n",
    "\n",
    "table_class=\"wikitable sortable jquery-tablesorter\"\n",
    "response=requests.get(url)\n",
    "print(response.status_code)"
   ]
  },
  {
   "cell_type": "code",
   "execution_count": 3,
   "id": "cb7ebf18-dee1-4a43-b746-daf0662c3aab",
   "metadata": {},
   "outputs": [],
   "source": [
    "# parse data from the html into a beautifulsoup object\n",
    "soup = BeautifulSoup(response.text, 'html.parser')\n",
    "checkpointtable=soup.find('table',{'class':\"wikitable\"})\n",
    "#print(checkpointtable) "
   ]
  },
  {
   "cell_type": "code",
   "execution_count": 10,
   "id": "71c3a795-b58a-4f7f-88b3-9cf43d6bb7e8",
   "metadata": {},
   "outputs": [
    {
     "name": "stdout",
     "output_type": "stream",
     "text": [
      "            Name\n",
      "0     Ipilimumab\n",
      "1      Nivolumab\n",
      "2  Pembrolizumab\n",
      "3   Atezolizumab\n",
      "4       Avelumab\n",
      "5     Durvalumab\n",
      "6     Cemiplimab\n"
     ]
    }
   ],
   "source": [
    "df=pd.read_html(str(checkpointtable))\n",
    "# convert list to dataframe\n",
    "df=pd.DataFrame(df[0])\n",
    "#print(df)\n",
    "df2=df[['Name']]\n",
    "print(df2)\n",
    "df.to_csv('checkpointtable.csv')\n",
    "df2.to_csv('cptable.csv')"
   ]
  },
  {
   "cell_type": "code",
   "execution_count": null,
   "id": "aae6f9a1-ddf3-46dd-9ad1-b9a64c53d8f1",
   "metadata": {},
   "outputs": [],
   "source": []
  }
 ],
 "metadata": {
  "kernelspec": {
   "display_name": "Python",
   "language": "python",
   "name": "conda-env-python-py"
  },
  "language_info": {
   "codemirror_mode": {
    "name": "ipython",
    "version": 3
   },
   "file_extension": ".py",
   "mimetype": "text/x-python",
   "name": "python",
   "nbconvert_exporter": "python",
   "pygments_lexer": "ipython3",
   "version": "3.7.12"
  }
 },
 "nbformat": 4,
 "nbformat_minor": 5
}
